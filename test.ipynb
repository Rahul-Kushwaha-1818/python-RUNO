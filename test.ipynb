{
 "cells": [
  {
   "cell_type": "code",
   "execution_count": 1,
   "id": "89e9f799-0f6c-4cd3-a3f2-738c331e3c1a",
   "metadata": {},
   "outputs": [
    {
     "name": "stdout",
     "output_type": "stream",
     "text": [
      "This Code For Runo Test\n"
     ]
    }
   ],
   "source": [
    "print(\"This Code For Runo Test\")"
   ]
  },
  {
   "cell_type": "code",
   "execution_count": 2,
   "id": "9291172b-3fa7-4d8d-86e2-f32329d8ae43",
   "metadata": {
    "scrolled": true
   },
   "outputs": [
    {
     "name": "stdout",
     "output_type": "stream",
     "text": [
      "Requirement already satisfied: matplotlib in c:\\users\\mis_karma\\appdata\\local\\programs\\python\\python313\\lib\\site-packages (3.10.0)\n",
      "Requirement already satisfied: contourpy>=1.0.1 in c:\\users\\mis_karma\\appdata\\local\\programs\\python\\python313\\lib\\site-packages (from matplotlib) (1.3.1)\n",
      "Requirement already satisfied: cycler>=0.10 in c:\\users\\mis_karma\\appdata\\local\\programs\\python\\python313\\lib\\site-packages (from matplotlib) (0.12.1)\n",
      "Requirement already satisfied: fonttools>=4.22.0 in c:\\users\\mis_karma\\appdata\\local\\programs\\python\\python313\\lib\\site-packages (from matplotlib) (4.55.3)\n",
      "Requirement already satisfied: kiwisolver>=1.3.1 in c:\\users\\mis_karma\\appdata\\local\\programs\\python\\python313\\lib\\site-packages (from matplotlib) (1.4.8)\n",
      "Requirement already satisfied: numpy>=1.23 in c:\\users\\mis_karma\\appdata\\local\\programs\\python\\python313\\lib\\site-packages (from matplotlib) (2.1.3)\n",
      "Requirement already satisfied: packaging>=20.0 in c:\\users\\mis_karma\\appdata\\local\\programs\\python\\python313\\lib\\site-packages (from matplotlib) (24.2)\n",
      "Requirement already satisfied: pillow>=8 in c:\\users\\mis_karma\\appdata\\local\\programs\\python\\python313\\lib\\site-packages (from matplotlib) (11.0.0)\n",
      "Requirement already satisfied: pyparsing>=2.3.1 in c:\\users\\mis_karma\\appdata\\local\\programs\\python\\python313\\lib\\site-packages (from matplotlib) (3.2.0)\n",
      "Requirement already satisfied: python-dateutil>=2.7 in c:\\users\\mis_karma\\appdata\\local\\programs\\python\\python313\\lib\\site-packages (from matplotlib) (2.9.0.post0)\n",
      "Requirement already satisfied: six>=1.5 in c:\\users\\mis_karma\\appdata\\local\\programs\\python\\python313\\lib\\site-packages (from python-dateutil>=2.7->matplotlib) (1.16.0)\n",
      "Requirement already satisfied: pandas in c:\\users\\mis_karma\\appdata\\local\\programs\\python\\python313\\lib\\site-packages (2.2.3)\n",
      "Requirement already satisfied: numpy>=1.26.0 in c:\\users\\mis_karma\\appdata\\local\\programs\\python\\python313\\lib\\site-packages (from pandas) (2.1.3)\n",
      "Requirement already satisfied: python-dateutil>=2.8.2 in c:\\users\\mis_karma\\appdata\\local\\programs\\python\\python313\\lib\\site-packages (from pandas) (2.9.0.post0)\n",
      "Requirement already satisfied: pytz>=2020.1 in c:\\users\\mis_karma\\appdata\\local\\programs\\python\\python313\\lib\\site-packages (from pandas) (2024.2)\n",
      "Requirement already satisfied: tzdata>=2022.7 in c:\\users\\mis_karma\\appdata\\local\\programs\\python\\python313\\lib\\site-packages (from pandas) (2024.2)\n",
      "Requirement already satisfied: six>=1.5 in c:\\users\\mis_karma\\appdata\\local\\programs\\python\\python313\\lib\\site-packages (from python-dateutil>=2.8.2->pandas) (1.16.0)\n",
      "Requirement already satisfied: numpy in c:\\users\\mis_karma\\appdata\\local\\programs\\python\\python313\\lib\\site-packages (2.1.3)\n"
     ]
    }
   ],
   "source": [
    "!pip install matplotlib\n",
    "!pip install pandas\n",
    "!pip install numpy"
   ]
  },
  {
   "cell_type": "code",
   "execution_count": 3,
   "id": "4b7ddb41-7a05-4798-8f31-0595b9bca266",
   "metadata": {},
   "outputs": [],
   "source": [
    "import pandas as pd\n",
    "import numpy as np\n",
    "import matplotlib.pyplot as plt"
   ]
  },
  {
   "cell_type": "code",
   "execution_count": 5,
   "id": "cf0f9fd3-dc99-4239-b5a1-fe7b31c76b91",
   "metadata": {},
   "outputs": [
    {
     "name": "stdout",
     "output_type": "stream",
     "text": [
      "                Customer Id               Name         Phone  \\\n",
      "0                       NaN            Unknown  918588096342   \n",
      "1                       NaN            Unknown  919891163874   \n",
      "2                       NaN            Unknown  918448225799   \n",
      "3  60c9dc5cf8c5d7000819db43  MR. PRINCE  GUPTA  919170775457   \n",
      "4  6569e83cbee5fed5b380bc49     MRS. INDU GAUR  919871804943   \n",
      "5                       NaN            Unknown  919170775457   \n",
      "6  651c02d7ec5be15c87369cd0              RAJIV  919873779254   \n",
      "7                       NaN            Unknown  918929665090   \n",
      "8  643ccf63f15393787c90b060         CHHEDA LAL  919456694453   \n",
      "9                       NaN            Unknown  919540048961   \n",
      "\n",
      "    Call Start Date Call Type    Call Tag  Duration (in Sec)  Duration  \\\n",
      "0  01-12-2024 09:15  outgoing    answered               40.0  00:00:40   \n",
      "1  01-12-2024 09:26  outgoing    answered               23.0  00:00:23   \n",
      "2  01-12-2024 09:31  incoming    answered               54.0  00:00:54   \n",
      "3  01-12-2024 09:32  incoming    answered               60.0  00:01:00   \n",
      "4  01-12-2024 09:33  outgoing  unanswered                NaN  00:00:00   \n",
      "5  01-12-2024 09:36  outgoing    answered               50.0  00:00:50   \n",
      "6  01-12-2024 09:36  outgoing    answered              101.0  00:01:41   \n",
      "7  01-12-2024 09:38  outgoing  unanswered                NaN  00:00:00   \n",
      "8  01-12-2024 09:39  outgoing  unanswered                NaN  00:00:00   \n",
      "9  01-12-2024 09:39  outgoing  unanswered                NaN  00:00:00   \n",
      "\n",
      "   Caller Name             Status  \n",
      "0  Manisha CRE                NaN  \n",
      "1  Anamika CRM                NaN  \n",
      "2  Anamika CRM                NaN  \n",
      "3  Shivani cre                NaN  \n",
      "4       Anjali                NaN  \n",
      "5  Shivani cre                NaN  \n",
      "6  Manisha CRE  Appointment Fixed  \n",
      "7    Sonam CRE                NaN  \n",
      "8       Anjali      Not contacted  \n",
      "9   Sajida CRE                NaN  \n"
     ]
    }
   ],
   "source": [
    "df=pd.read_csv(\"Runo Call CRM.csv\", encoding='unicode_escape')\n",
    "print(df.head(10))"
   ]
  },
  {
   "cell_type": "code",
   "execution_count": 6,
   "id": "bce51174-d47e-45bc-af98-c94c422fb1ae",
   "metadata": {},
   "outputs": [
    {
     "name": "stdout",
     "output_type": "stream",
     "text": [
      "All Caller Name: \n",
      "['Manisha CRE' 'Anamika CRM' 'Shivani cre' 'Anjali' 'Sonam CRE'\n",
      " 'Sajida CRE' 'Pooja CRE' 'Dipeeka CRE' 'Hema CRE' 'Riya']\n"
     ]
    }
   ],
   "source": [
    "Caller_Names = df['Caller Name'].unique()\n",
    "\n",
    "# Print the unique values\n",
    "print(\"All Caller Name: \")\n",
    "print(Caller_Names)"
   ]
  },
  {
   "cell_type": "code",
   "execution_count": 7,
   "id": "6af2bdf8-c549-4088-8de0-9ce19d9aca38",
   "metadata": {},
   "outputs": [
    {
     "name": "stdout",
     "output_type": "stream",
     "text": [
      "{'Manisha CRE': 570, 'Anamika CRM': 400, 'Shivani cre': 2223, 'Anjali': 713, 'Sonam CRE': 2313, 'Sajida CRE': 2547, 'Pooja CRE': 653, 'Dipeeka CRE': 801, 'Hema CRE': 1650, 'Riya': 4}\n"
     ]
    }
   ],
   "source": [
    "caller_and_name = {}\n",
    "\n",
    "for call_name in Caller_Names:\n",
    "    count = df[df[\"Caller Name\"] == call_name].shape[0]\n",
    "    caller_and_name[call_name] = count\n",
    "\n",
    "print(caller_and_name)\n"
   ]
  },
  {
   "cell_type": "code",
   "execution_count": 8,
   "id": "50ea50db-7d97-4838-a38a-8a91dae1a537",
   "metadata": {},
   "outputs": [
    {
     "data": {
      "image/png": "[encoded data removed]",
      "text/plain": [
       "<Figure size 1000x600 with 1 Axes>"
      ]
     },
     "metadata": {},
     "output_type": "display_data"
    }
   ],
   "source": [
    "names = list(caller_and_name.keys())\n",
    "counts = list(caller_and_name.values())\n",
    "\n",
    "plt.figure(figsize=(10, 6))\n",
    "plt.barh(names, counts, color='skyblue') \n",
    "\n",
    "plt.xlabel('Number of Occurrences')\n",
    "plt.ylabel('Caller Name')\n",
    "plt.title('Call Counts by Caller Name')\n",
    "\n",
    "plt.xticks(range(0, max(counts) + 200, 200)) \n",
    "\n",
    "plt.tight_layout() \n",
    "plt.show()\n"
   ]
  },
  {
   "cell_type": "code",
   "execution_count": 13,
   "id": "339d228f-6554-49da-b4f9-39ab7898dd95",
   "metadata": {},
   "outputs": [
    {
     "name": "stdout",
     "output_type": "stream",
     "text": [
      "    Phone Number  Missed Call Time                    Follow-Up Status\n",
      "0   919599438311  01-12-2024 16:30  Followed by an outgoing call later\n",
      "1   918889591811  03-12-2024 12:38  Followed by an outgoing call later\n",
      "2   919081218484  03-12-2024 13:05  Followed by an outgoing call later\n",
      "3   917999954575  09-12-2024 18:55          No follow-up outgoing call\n",
      "4   919717136199  10-12-2024 10:06          No follow-up outgoing call\n",
      "5   911408853472  10-12-2024 12:11          No follow-up outgoing call\n",
      "6   911408364074  10-12-2024 12:56          No follow-up outgoing call\n",
      "7   919717341839  11-12-2024 07:56  Followed by an outgoing call later\n",
      "8   919717341839  11-12-2024 07:56  Followed by an outgoing call later\n",
      "9   919650994692  11-12-2024 13:04          No follow-up outgoing call\n",
      "10  919958085019  13-12-2024 10:30  Followed by an outgoing call later\n",
      "11  919219033055  20-12-2024 12:35          No follow-up outgoing call\n",
      "12  917903036707  20-12-2024 15:12  Followed by an outgoing call later\n"
     ]
    }
   ],
   "source": [
    "import pandas as pd\n",
    "\n",
    "# Function to get missed calls and subsequent outgoing calls in table format\n",
    "def get_missed_and_follow_up(caller_name):\n",
    "    # Filter for missed calls by the given caller\n",
    "    missed_calls = df[(df['Caller Name'] == caller_name) & (df['Call Type'] == 'missed')]\n",
    "    \n",
    "    missed_phone_numbers = missed_calls['Phone'].tolist()\n",
    "    \n",
    "    result = []\n",
    "    \n",
    "    for number in missed_phone_numbers:\n",
    "        # Find if there is an outgoing call after the missed call to the same number\n",
    "        subsequent_calls = df[(df['Phone'] == number) & (df['Call Type'] == 'outgoing') & \n",
    "                              (df['Call Start Date'] < missed_calls.loc[missed_calls['Phone'] == number, 'Call Start Date'].values[0])]\n",
    "        \n",
    "        if not subsequent_calls.empty:\n",
    "            follow_up_status = \"Followed by an outgoing call later\"\n",
    "        else:\n",
    "            follow_up_status = \"No follow-up outgoing call\"\n",
    "        \n",
    "        # Adding row to the result\n",
    "        result.append({\n",
    "            'Phone Number': number,\n",
    "            'Missed Call Time': missed_calls.loc[missed_calls['Phone'] == number, 'Call Start Date'].values[0],\n",
    "            'Follow-Up Status': follow_up_status\n",
    "        })\n",
    "    \n",
    "    # Convert result into a DataFrame for table-like format\n",
    "    result_df = pd.DataFrame(result)\n",
    "    return result_df\n",
    "\n",
    "# Example usage\n",
    "caller_name = \"Manisha CRE\"\n",
    "missed_and_follow_up_df = get_missed_and_follow_up(caller_name)\n",
    "\n",
    "# Display the result in a table\n",
    "print(missed_and_follow_up_df)\n"
   ]
  }
 ],
 "metadata": {
  "kernelspec": {
   "display_name": "Python 3 (ipykernel)",
   "language": "python",
   "name": "python3"
  },
  "language_info": {
   "codemirror_mode": {
    "name": "ipython",
    "version": 3
   },
   "file_extension": ".py",
   "mimetype": "text/x-python",
   "name": "python",
   "nbconvert_exporter": "python",
   "pygments_lexer": "ipython3",
   "version": "3.13.0"
  }
 },
 "nbformat": 4,
 "nbformat_minor": 5
}
